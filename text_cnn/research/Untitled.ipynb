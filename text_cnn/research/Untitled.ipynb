{
 "cells": [
  {
   "cell_type": "code",
   "execution_count": 1,
   "metadata": {},
   "outputs": [
    {
     "name": "stderr",
     "output_type": "stream",
     "text": [
      "C:\\ProgramData\\Anaconda3\\lib\\site-packages\\gensim\\utils.py:1212: UserWarning: detected Windows; aliasing chunkize to chunkize_serial\n",
      "  warnings.warn(\"detected Windows; aliasing chunkize to chunkize_serial\")\n"
     ]
    }
   ],
   "source": [
    "from gensim.models.ldamodel import LdaModel\n",
    "import gensim.corpora as corpora\n",
    "import pandas as pd\n",
    "import gensim"
   ]
  },
  {
   "cell_type": "code",
   "execution_count": 2,
   "metadata": {},
   "outputs": [],
   "source": [
    "def word_cut(doc):\n",
    "    \"\"\"\n",
    "    切词\n",
    "    :param doc:\n",
    "    :return:2D list\n",
    "    \"\"\"\n",
    "    result = []\n",
    "    for line in doc:\n",
    "        result.append(line.split())\n",
    "    dictionary = corpora.Dictionary(result)\n",
    "    return result, dictionary"
   ]
  },
  {
   "cell_type": "code",
   "execution_count": 11,
   "metadata": {},
   "outputs": [],
   "source": [
    "doc = pd.read_csv('../../dataset/020_7_shuffle_train.csv',\n",
    "                  delimiter='\\t',\n",
    "                  header=None,\n",
    "                  names=['content', 'label'],\n",
    "                  encoding='utf8')\n",
    "\n",
    "doc = doc['content']\n",
    "\n",
    "rubbish = [r'\\[ / LaTeXI ]', r'\\[', r'LaTeXI', r'\\]', r'\\{', r'\\}',\n",
    "           r'& gt ;', r'\\\\', r'frac', r'matrix', r'\\(', r'\\)', r'[0-9]']\n",
    "\n",
    "for rub in rubbish:\n",
    "    doc.replace(rub, '', inplace=True, regex=True)\n",
    "\n",
    "doc = doc.values"
   ]
  },
  {
   "cell_type": "code",
   "execution_count": 5,
   "metadata": {},
   "outputs": [
    {
     "name": "stdout",
     "output_type": "stream",
     "text": [
      "Dictionary(22592 unique tokens: ['-', '/', '^', 'a', 'c']...)\n"
     ]
    }
   ],
   "source": [
    "corpus, dictionary = word_cut(doc)\n",
    "print(dictionary)"
   ]
  },
  {
   "cell_type": "code",
   "execution_count": 6,
   "metadata": {},
   "outputs": [],
   "source": [
    "model = gensim.models.Word2Vec(corpus, size=200)"
   ]
  },
  {
   "cell_type": "code",
   "execution_count": 31,
   "metadata": {},
   "outputs": [],
   "source": [
    "corpus_cbow = [dictionary.doc2bow(text) for text in corpus]"
   ]
  },
  {
   "cell_type": "code",
   "execution_count": 34,
   "metadata": {},
   "outputs": [],
   "source": [
    "# tfidf = gensim.models.TfidfModel(doc)\n",
    "from sklearn.feature_extraction.text import TfidfTransformer\n",
    "from sklearn.feature_extraction.text import CountVectorizer\n",
    "\n",
    "tfidf=gensim.models.TfidfModel(corpus_cbow)\n",
    "corpus_tfidf=tfidf[corpus_cbow]"
   ]
  },
  {
   "cell_type": "code",
   "execution_count": 32,
   "metadata": {},
   "outputs": [],
   "source": [
    "lda = LdaModel(corpus=corpus_cbow, id2word=dictionary, num_topics=1)"
   ]
  },
  {
   "cell_type": "code",
   "execution_count": 22,
   "metadata": {},
   "outputs": [],
   "source": [
    "# from gensim.test.utils import common_corpus,common_dictionary\n",
    "# model = LdaModel(common_corpus, id2word=common_dictionary, distributed=True)\n",
    "# common_corpus"
   ]
  },
  {
   "cell_type": "code",
   "execution_count": 61,
   "metadata": {},
   "outputs": [],
   "source": [
    "corpus_lda = lda[corpus_tfidf]"
   ]
  },
  {
   "cell_type": "code",
   "execution_count": 70,
   "metadata": {},
   "outputs": [
    {
     "data": {
      "text/plain": [
       "[(0, 1.0)]"
      ]
     },
     "execution_count": 70,
     "metadata": {},
     "output_type": "execute_result"
    }
   ],
   "source": [
    "lda.get_document_topics(corpus_cbow[11])"
   ]
  },
  {
   "cell_type": "code",
   "execution_count": 72,
   "metadata": {},
   "outputs": [
    {
     "ename": "TypeError",
     "evalue": "'dict' object is not callable",
     "traceback": [
      "\u001b[1;31m---------------------------------------------------------------------------\u001b[0m",
      "\u001b[1;31mTypeError\u001b[0m                                 Traceback (most recent call last)",
      "\u001b[1;32m<ipython-input-72-fbe0d971d955>\u001b[0m in \u001b[0;36m<module>\u001b[1;34m()\u001b[0m\n\u001b[1;32m----> 1\u001b[1;33m \u001b[0mdictionary\u001b[0m\u001b[1;33m.\u001b[0m\u001b[0mid2token\u001b[0m\u001b[1;33m(\u001b[0m\u001b[0mlda\u001b[0m\u001b[1;33m.\u001b[0m\u001b[0mget_document_topics\u001b[0m\u001b[1;33m(\u001b[0m\u001b[0mcorpus_cbow\u001b[0m\u001b[1;33m[\u001b[0m\u001b[1;36m11\u001b[0m\u001b[1;33m]\u001b[0m\u001b[1;33m)\u001b[0m\u001b[1;33m)\u001b[0m\u001b[1;33m\u001b[0m\u001b[0m\n\u001b[0m",
      "\u001b[1;31mTypeError\u001b[0m: 'dict' object is not callable"
     ],
     "output_type": "error"
    }
   ],
   "source": [
    "dictionary.id2token(lda.get_document_topics(corpus_cbow[11]))"
   ]
  },
  {
   "cell_type": "markdown",
   "metadata": {},
   "source": [
    "---"
   ]
  },
  {
   "cell_type": "code",
   "execution_count": 74,
   "metadata": {},
   "outputs": [
    {
     "name": "stderr",
     "output_type": "stream",
     "text": [
      "Building prefix dict from the default dictionary ...\n",
      "Dumping model to file cache C:\\Users\\ADMINI~1.WIN\\AppData\\Local\\Temp\\jieba.cache\n",
      "Loading model cost 1.076 seconds.\n",
      "Prefix dict has been built succesfully.\n"
     ]
    }
   ],
   "source": [
    "import jieba\n",
    "raw_documents = [\n",
    "    '无偿检举介绍买卖毒品的行为应如何定性',\n",
    "    '吸毒男动态持有大量毒品的行为该如何认定',\n",
    "    '如何区分是非法种植毒品原植物罪还是非法制造毒品罪',\n",
    "    '为毒贩贩卖毒品提供帮助构成贩卖毒品罪',\n",
    "    '将自己吸食的毒品原价转让给朋友吸食的行为该如何认定',\n",
    "    '为获报酬帮人购买毒品的行为该如何认定',\n",
    "    '毒贩出狱后再次够买毒品途中被抓的行为认定',\n",
    "    '虚夸毒品功效劝人吸食毒品的行为该如何认定',\n",
    "    '妻子下落不明丈夫又与他人登记结婚是否为无效婚姻',\n",
    "    '一方未签字办理的结婚登记是否有效',\n",
    "    '夫妻双方1990年按农村习俗举办婚礼没有结婚证 一方可否起诉离婚',\n",
    "    '结婚前对方父母出资购买的住房写我们二人的名字有效吗',\n",
    "    '身份证被别人冒用无法登记结婚怎么办？',\n",
    "    '同居后又与他人登记结婚是否构成重婚罪',\n",
    "    '未办登记只举办结婚仪式可起诉离婚吗',\n",
    "    '同居多年未办理结婚登记，是否可以向法院起诉要求离婚'\n",
    "]\n",
    "corpora_documents = []\n",
    "for item_text in raw_documents:\n",
    "    item_str = list(jieba.cut((item_text)))\n",
    "    corpora_documents.append(item_str)"
   ]
  },
  {
   "cell_type": "code",
   "execution_count": 78,
   "metadata": {},
   "outputs": [],
   "source": [
    "dictionary = corpora.Dictionary(corpora_documents)"
   ]
  },
  {
   "cell_type": "code",
   "execution_count": 79,
   "metadata": {},
   "outputs": [],
   "source": [
    "model = gensim.models.Word2Vec(corpus, size=200)"
   ]
  },
  {
   "cell_type": "code",
   "execution_count": 80,
   "metadata": {},
   "outputs": [],
   "source": [
    "corpus_cbow = [dictionary.doc2bow(text) for text in corpus]"
   ]
  },
  {
   "cell_type": "code",
   "execution_count": 81,
   "metadata": {},
   "outputs": [],
   "source": [
    "tfidf=gensim.models.TfidfModel(corpus_cbow)\n",
    "corpus_tfidf=tfidf[corpus_cbow]"
   ]
  },
  {
   "cell_type": "code",
   "execution_count": 92,
   "metadata": {},
   "outputs": [],
   "source": [
    "lda = LdaModel(corpus=corpus_tfidf, id2word=dictionary, num_topics=2)"
   ]
  },
  {
   "cell_type": "code",
   "execution_count": 93,
   "metadata": {},
   "outputs": [
    {
     "data": {
      "text/plain": [
       "[(0,\n",
       "  '0.356*\"是\" + 0.293*\"，\" + 0.223*\"的\" + 0.021*\"该\" + 0.015*\"后\" + 0.015*\"按\" + 0.014*\"可\" + 0.012*\"向\" + 0.009*\"年\" + 0.009*\"应\"'),\n",
       " (1,\n",
       "  '0.373*\"为\" + 0.173*\"与\" + 0.104*\"，\" + 0.081*\"的\" + 0.068*\"将\" + 0.041*\"可以\" + 0.029*\"？\" + 0.024*\"后\" + 0.022*\"被\" + 0.022*\"又\"')]"
      ]
     },
     "execution_count": 93,
     "metadata": {},
     "output_type": "execute_result"
    }
   ],
   "source": [
    "lda.print_topics()"
   ]
  },
  {
   "cell_type": "code",
   "execution_count": null,
   "metadata": {},
   "outputs": [],
   "source": []
  },
  {
   "cell_type": "code",
   "execution_count": null,
   "metadata": {},
   "outputs": [],
   "source": []
  },
  {
   "cell_type": "code",
   "execution_count": null,
   "metadata": {},
   "outputs": [],
   "source": []
  }
 ],
 "metadata": {
  "kernelspec": {
   "display_name": "Python 3",
   "language": "python",
   "name": "python3"
  },
  "language_info": {
   "codemirror_mode": {
    "name": "ipython",
    "version": 3
   },
   "file_extension": ".py",
   "mimetype": "text/x-python",
   "name": "python",
   "nbconvert_exporter": "python",
   "pygments_lexer": "ipython3",
   "version": "3.6.4"
  }
 },
 "nbformat": 4,
 "nbformat_minor": 2
}
